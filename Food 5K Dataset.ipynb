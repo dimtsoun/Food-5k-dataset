{
 "cells": [
  {
   "cell_type": "code",
   "execution_count": 107,
   "metadata": {},
   "outputs": [],
   "source": [
    "# dataset: https://mmspg.epfl.ch/food-image-datasets  (remove first mac leftover files in the directories )\n",
    "import os\n",
    "import pandas as pd\n",
    "import numpy as np\n",
    "from keras.models import Sequential\n",
    "from keras.preprocessing import image\n",
    "from keras import layers\n",
    "import matplotlib.pyplot as plt\n",
    "import shutil\n",
    "\n",
    "training_dir = '/home/dimtsoun/dlav/food_5k/training'\n",
    "validation_dir = '/home/dimtsoun/dlav/food_5k/validation'\n",
    "testing_dir = '/home/dimtsoun/dlav/food_5k/evaluation'\n",
    "\n",
    "files_train = os.listdir(training_dir)\n",
    "y_train = np.zeros([len(files_train)])\n",
    "paths_train = []\n",
    "\n",
    "\n",
    "files_val = os.listdir(validation_dir)\n",
    "y_val = np.zeros([len(files_val)])\n",
    "paths_val = []\n",
    "\n",
    "\n",
    "####################\n",
    "\n",
    "food_train_dir = os.path.join(training_dir,'food')\n",
    "os.mkdir(food_train_dir)\n",
    "non_food_train_dir = os.path.join(training_dir,'nonfood')\n",
    "os.mkdir(non_food_train_dir)\n",
    "\n",
    "\n",
    "food_val_dir = os.path.join(validation_dir,'food')\n",
    "os.mkdir(food_val_dir)\n",
    "non_food_val_dir = os.path.join(validation_dir,'nonfood')\n",
    "os.mkdir(non_food_val_dir)\n",
    "\n",
    "###################\n",
    "\n",
    "counter = 0\n",
    "for file in (files_train):\n",
    "    [label,file_ext] = file.split('_')\n",
    "    file_path = os.path.join(training_dir,file)\n",
    "    \n",
    "    if label=='1':\n",
    "        src = file_path\n",
    "        dst = food_train_dir\n",
    "        shutil.move(src,dst)\n",
    "    else:\n",
    "        src = file_path\n",
    "        dst = non_food_train_dir\n",
    "        shutil.move(src,dst)\n",
    "            \n",
    "        \n",
    "    \n",
    "#     paths_train.append(file_path)\n",
    "#     y_train[counter] = label\n",
    "#     counter += 1\n",
    "    \n",
    "    \n",
    "\n",
    "\n",
    "counter = 0\n",
    "\n",
    "for file in (files_val):\n",
    "    [label,file_ext] = file.split('_')\n",
    "    file_path = os.path.join(validation_dir,file)\n",
    "    \n",
    "    \n",
    "#     paths_val.append(file_path)\n",
    "#     y_val[counter] = label\n",
    "#     counter += 1\n",
    "    \n",
    "    if label=='1':\n",
    "        src = file_path\n",
    "        dst = food_val_dir\n",
    "        shutil.move(src,dst)\n",
    "    else:\n",
    "        src = file_path\n",
    "        dst = non_food_val_dir\n",
    "        shutil.move(src,dst)\n",
    "    \n",
    "    \n",
    "# files_test = os.listdir(testing_dir)\n",
    "# y_test = np.zeros([len(files_test)])\n",
    "# paths_test = []\n",
    "\n",
    "# counter = 0\n",
    "# for file in (files_test):\n",
    "#     [label,file_ext] = file.split('_')\n",
    "#     file_path = os.path.join(testing_dir,file)\n",
    "    \n",
    "#     paths_test.append(file_path)\n",
    "#     y_test[counter] = label\n",
    "#     counter += 1\n",
    "    \n",
    "\n",
    "    \n",
    "# training_data = pd.DataFrame(paths,y_train)\n",
    "    \n",
    "# training_data = pd.DataFrame(data={\"path\": paths_train, \"label\": y_train})\n",
    "# validation_data = pd.DataFrame(data={\"path\":paths_val,\"label\":y_val})\n",
    "# test_data = pd.DataFrame(data={\"path\":paths_test,\"label\":y_test})"
   ]
  },
  {
   "cell_type": "code",
   "execution_count": 109,
   "metadata": {},
   "outputs": [
    {
     "name": "stdout",
     "output_type": "stream",
     "text": [
      "Total number of food training images 1500\n",
      "Total number of nonfood training images 1500\n",
      "----\n",
      "Total number of food validation images 500\n",
      "Total number of nonfood validation images 500\n"
     ]
    }
   ],
   "source": [
    "print('Total number of food training images',len(os.listdir(food_train_dir)))\n",
    "print('Total number of nonfood training images',len(os.listdir(non_food_train_dir)))\n",
    "print('----')\n",
    "print('Total number of food validation images',len(os.listdir(food_val_dir)))\n",
    "print('Total number of nonfood validation images',len(os.listdir(non_food_val_dir)))"
   ]
  },
  {
   "cell_type": "markdown",
   "metadata": {},
   "source": [
    "*Defining the Network*"
   ]
  },
  {
   "cell_type": "code",
   "execution_count": 110,
   "metadata": {},
   "outputs": [
    {
     "name": "stdout",
     "output_type": "stream",
     "text": [
      "_________________________________________________________________\n",
      "Layer (type)                 Output Shape              Param #   \n",
      "=================================================================\n",
      "conv2d_9 (Conv2D)            (None, 148, 148, 32)      896       \n",
      "_________________________________________________________________\n",
      "max_pooling2d_9 (MaxPooling2 (None, 74, 74, 32)        0         \n",
      "_________________________________________________________________\n",
      "conv2d_10 (Conv2D)           (None, 72, 72, 64)        18496     \n",
      "_________________________________________________________________\n",
      "max_pooling2d_10 (MaxPooling (None, 36, 36, 64)        0         \n",
      "_________________________________________________________________\n",
      "conv2d_11 (Conv2D)           (None, 34, 34, 128)       73856     \n",
      "_________________________________________________________________\n",
      "max_pooling2d_11 (MaxPooling (None, 17, 17, 128)       0         \n",
      "_________________________________________________________________\n",
      "conv2d_12 (Conv2D)           (None, 15, 15, 128)       147584    \n",
      "_________________________________________________________________\n",
      "max_pooling2d_12 (MaxPooling (None, 7, 7, 128)         0         \n",
      "_________________________________________________________________\n",
      "flatten_3 (Flatten)          (None, 6272)              0         \n",
      "_________________________________________________________________\n",
      "dense_3 (Dense)              (None, 512)               3211776   \n",
      "_________________________________________________________________\n",
      "dense_4 (Dense)              (None, 1)                 513       \n",
      "=================================================================\n",
      "Total params: 3,453,121\n",
      "Trainable params: 3,453,121\n",
      "Non-trainable params: 0\n",
      "_________________________________________________________________\n"
     ]
    }
   ],
   "source": [
    "model = Sequential()\n",
    "\n",
    "model.add(layers.Conv2D(32,(3,3),activation='relu',input_shape=(150,150,3)))\n",
    "model.add(layers.MaxPooling2D((2,2)))\n",
    "model.add(layers.Conv2D(64,(3,3),activation='relu'))\n",
    "model.add(layers.MaxPooling2D((2,2)))\n",
    "model.add(layers.Conv2D(128,(3,3),activation='relu'))\n",
    "model.add(layers.MaxPooling2D((2,2)))\n",
    "model.add(layers.Conv2D(128,(3,3),activation='relu'))\n",
    "model.add(layers.MaxPooling2D((2,2)))\n",
    "model.add(layers.Flatten())\n",
    "model.add(layers.Dense(512,activation='relu'))\n",
    "model.add(layers.Dense(1,activation='sigmoid'))\n",
    "\n",
    "model.summary()"
   ]
  },
  {
   "cell_type": "code",
   "execution_count": 111,
   "metadata": {},
   "outputs": [],
   "source": [
    "from keras import optimizers\n",
    "\n",
    "model.compile(loss='binary_crossentropy',optimizer=optimizers.RMSprop(lr=1e-4),metrics=['acc'])\n"
   ]
  },
  {
   "cell_type": "code",
   "execution_count": 121,
   "metadata": {},
   "outputs": [
    {
     "name": "stdout",
     "output_type": "stream",
     "text": [
      "Found 3000 images belonging to 2 classes.\n",
      "Found 1000 images belonging to 2 classes.\n"
     ]
    }
   ],
   "source": [
    "from keras.preprocessing.image import ImageDataGenerator\n",
    "\n",
    "train_datagen = ImageDataGenerator(rescale = 1./255)\n",
    "val_datagen = ImageDataGenerator(rescale = 1./255)\n",
    "\n",
    "\n",
    "train_generator = train_datagen.flow_from_directory(training_dir,target_size=(150,150),classes=['food','nonfood'],class_mode='binary',batch_size=20)\n",
    "\n",
    "val_generator = val_datagen.flow_from_directory(validation_dir,target_size=(150,150),classes=['food','nonfood'],class_mode='binary',batch_size=20)\n"
   ]
  },
  {
   "cell_type": "code",
   "execution_count": 122,
   "metadata": {},
   "outputs": [
    {
     "name": "stdout",
     "output_type": "stream",
     "text": [
      "data shape (20, 150, 150, 3)\n",
      "labels_shape (20,)\n"
     ]
    }
   ],
   "source": [
    "for data_batch,labels_batch in train_generator:\n",
    "    print('data shape',data_batch.shape)\n",
    "    print('labels_shape',labels_batch.shape)\n",
    "    break"
   ]
  },
  {
   "cell_type": "code",
   "execution_count": 123,
   "metadata": {},
   "outputs": [
    {
     "name": "stdout",
     "output_type": "stream",
     "text": [
      "Epoch 1/10\n",
      "100/100 [==============================] - 18s 183ms/step - loss: 0.5473 - acc: 0.7270 - val_loss: 0.5624 - val_acc: 0.7450\n",
      "Epoch 2/10\n",
      "100/100 [==============================] - 15s 151ms/step - loss: 0.4642 - acc: 0.7875 - val_loss: 0.4285 - val_acc: 0.8230\n",
      "Epoch 3/10\n",
      "100/100 [==============================] - 15s 149ms/step - loss: 0.4298 - acc: 0.8090 - val_loss: 0.3862 - val_acc: 0.8350\n",
      "Epoch 4/10\n",
      "100/100 [==============================] - 15s 154ms/step - loss: 0.3905 - acc: 0.8265 - val_loss: 0.5934 - val_acc: 0.6900\n",
      "Epoch 5/10\n",
      "100/100 [==============================] - 15s 149ms/step - loss: 0.3686 - acc: 0.8380 - val_loss: 0.3397 - val_acc: 0.8570\n",
      "Epoch 6/10\n",
      "100/100 [==============================] - 15s 151ms/step - loss: 0.3494 - acc: 0.8515 - val_loss: 0.3876 - val_acc: 0.8500\n",
      "Epoch 7/10\n",
      "100/100 [==============================] - 15s 151ms/step - loss: 0.3204 - acc: 0.8660 - val_loss: 0.3457 - val_acc: 0.8490\n",
      "Epoch 8/10\n",
      "100/100 [==============================] - 15s 150ms/step - loss: 0.2942 - acc: 0.8595 - val_loss: 0.3479 - val_acc: 0.8590\n",
      "Epoch 9/10\n",
      "100/100 [==============================] - 15s 152ms/step - loss: 0.2946 - acc: 0.8820 - val_loss: 0.2877 - val_acc: 0.8830\n",
      "Epoch 10/10\n",
      "100/100 [==============================] - 15s 151ms/step - loss: 0.2747 - acc: 0.8855 - val_loss: 0.2896 - val_acc: 0.8770\n"
     ]
    }
   ],
   "source": [
    "history = model.fit_generator(train_generator,steps_per_epoch=100,epochs=10,validation_data=val_generator,validation_steps=50)"
   ]
  },
  {
   "cell_type": "code",
   "execution_count": 124,
   "metadata": {},
   "outputs": [
    {
     "data": {
      "text/plain": [
       "dict_keys(['val_loss', 'val_acc', 'loss', 'acc'])"
      ]
     },
     "execution_count": 124,
     "metadata": {},
     "output_type": "execute_result"
    }
   ],
   "source": [
    "history.history.keys()"
   ]
  },
  {
   "cell_type": "code",
   "execution_count": 130,
   "metadata": {},
   "outputs": [
    {
     "data": {
      "text/plain": [
       "<matplotlib.legend.Legend at 0x7f2c9ea44d68>"
      ]
     },
     "execution_count": 130,
     "metadata": {},
     "output_type": "execute_result"
    },
    {
     "data": {
      "image/png": "[encoded data removed]",
      "text/plain": [
       "<Figure size 432x288 with 1 Axes>"
      ]
     },
     "metadata": {},
     "output_type": "display_data"
    },
    {
     "data": {
      "image/png": "[encoded data removed]",
      "text/plain": [
       "<Figure size 432x288 with 1 Axes>"
      ]
     },
     "metadata": {},
     "output_type": "display_data"
    }
   ],
   "source": [
    "loss = history.history['loss']\n",
    "acc = history.history['acc']\n",
    "val_loss = history.history['val_loss']\n",
    "val_acc = history.history['val_acc']\n",
    "\n",
    "plt.plot(loss,'bo',label='Loss')\n",
    "plt.plot(val_loss,'ro',label='val los')\n",
    "plt.legend()\n",
    "\n",
    "plt.figure()\n",
    "\n",
    "plt.plot(acc,'bo',label='acc')\n",
    "plt.plot(val_acc,'ro',label='val acc')\n",
    "plt.legend()\n"
   ]
  },
  {
   "cell_type": "code",
   "execution_count": 1,
   "metadata": {},
   "outputs": [
    {
     "ename": "NameError",
     "evalue": "name 'image' is not defined",
     "output_type": "error",
     "traceback": [
      "\u001b[0;31m---------------------------------------------------------------------------\u001b[0m",
      "\u001b[0;31mNameError\u001b[0m                                 Traceback (most recent call last)",
      "\u001b[0;32m<ipython-input-1-dc39e549795c>\u001b[0m in \u001b[0;36m<module>\u001b[0;34m()\u001b[0m\n\u001b[1;32m      1\u001b[0m \u001b[0mimg_path\u001b[0m \u001b[0;34m=\u001b[0m \u001b[0;34m'/home/dimtsoun/dlav/food_5k/evaluation/0_9.jpg'\u001b[0m\u001b[0;34m\u001b[0m\u001b[0m\n\u001b[1;32m      2\u001b[0m \u001b[0;34m\u001b[0m\u001b[0m\n\u001b[0;32m----> 3\u001b[0;31m \u001b[0mimg\u001b[0m \u001b[0;34m=\u001b[0m \u001b[0mimage\u001b[0m\u001b[0;34m.\u001b[0m\u001b[0mload_img\u001b[0m\u001b[0;34m(\u001b[0m\u001b[0mimg_path\u001b[0m\u001b[0;34m,\u001b[0m\u001b[0mtarget_size\u001b[0m\u001b[0;34m=\u001b[0m\u001b[0;34m(\u001b[0m\u001b[0;36m150\u001b[0m\u001b[0;34m,\u001b[0m\u001b[0;36m150\u001b[0m\u001b[0;34m)\u001b[0m\u001b[0;34m)\u001b[0m\u001b[0;34m\u001b[0m\u001b[0m\n\u001b[0m\u001b[1;32m      4\u001b[0m \u001b[0mx\u001b[0m \u001b[0;34m=\u001b[0m \u001b[0mimage\u001b[0m\u001b[0;34m.\u001b[0m\u001b[0mimg_to_array\u001b[0m\u001b[0;34m(\u001b[0m\u001b[0mimg\u001b[0m\u001b[0;34m)\u001b[0m\u001b[0;34m\u001b[0m\u001b[0m\n\u001b[1;32m      5\u001b[0m \u001b[0mx\u001b[0m \u001b[0;34m=\u001b[0m \u001b[0mx\u001b[0m\u001b[0;34m/\u001b[0m\u001b[0;36m255\u001b[0m\u001b[0;34m\u001b[0m\u001b[0m\n",
      "\u001b[0;31mNameError\u001b[0m: name 'image' is not defined"
     ]
    }
   ],
   "source": [
    "img_path = '/home/dimtsoun/dlav/food_5k/evaluation/0_9.jpg'\n",
    "\n",
    "img = image.load_img(img_path,target_size=(150,150))\n",
    "x = image.img_to_array(img)\n",
    "x = x/255\n",
    "x = x.reshape((1,)+x.shape)\n",
    "# plt.imshow(x)\n",
    "\n",
    "\n",
    "y_prob = model.predict_classes(x) # this returns the class\n",
    "\n",
    "# y_prob = model.predict(x) # this returns probability (maybe..)?\n",
    "print(y_prob)"
   ]
  },
  {
   "cell_type": "code",
   "execution_count": 154,
   "metadata": {},
   "outputs": [
    {
     "name": "stdout",
     "output_type": "stream",
     "text": [
      "{'food': 0, 'nonfood': 1}\n"
     ]
    }
   ],
   "source": [
    "label_map = (train_generator.class_indices)\n",
    "print(label_map)"
   ]
  }
 ],
 "metadata": {
  "kernelspec": {
   "display_name": "Python 3",
   "language": "python",
   "name": "python3"
  },
  "language_info": {
   "codemirror_mode": {
    "name": "ipython",
    "version": 3
   },
   "file_extension": ".py",
   "mimetype": "text/x-python",
   "name": "python",
   "nbconvert_exporter": "python",
   "pygments_lexer": "ipython3",
   "version": "3.6.5"
  }
 },
 "nbformat": 4,
 "nbformat_minor": 2
}
